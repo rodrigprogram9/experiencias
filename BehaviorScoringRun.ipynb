{
  "cells": [
    {
      "cell_type": "markdown",
      "metadata": {
        "id": "byWTl5CFCiG1"
      },
      "source": [
        "#BehaviorScoringRun.ipynb\n",
        "\n",
        "\n"
      ]
    },
    {
      "cell_type": "markdown",
      "metadata": {
        "id": "WMJLJFqT0Wnw"
      },
      "source": [
        "##🪰 This notebook is the entry point for the **BehaviorScoring** pipeline.\n",
        "\n",
        "---\n",
        "\n",
        "\n"
      ]
    },
    {
      "cell_type": "markdown",
      "source": [
        "It keeps\n",
        "implementation details inside modules and streamlines the workflow: set up the\n",
        "environment, select paths, run the analysis, and produce consistent scored outputs.The emphasis is a user-friendly, reproducible flow: clear separation of config from logic, minimal editing in one place, and version-pinned runs.\n",
        "\n",
        "This notebook guides you through a standard sequence: configure once, stage inputs, run scoring, and sync outputs."
      ],
      "metadata": {
        "id": "dehB-9V2NLMe"
      }
    },
    {
      "cell_type": "markdown",
      "metadata": {
        "id": "1ChMzidpseFl"
      },
      "source": [
        "#### Run order\n",
        "```\n",
        "1) Setup scoring environment  \n",
        "2) Import configs & stage to local mirrors  \n",
        "3) Run pipeline  \n",
        "```\n",
        "\n",
        "\n"
      ]
    },
    {
      "cell_type": "markdown",
      "metadata": {
        "id": "LPERI3-osqrL"
      },
      "source": [
        "#### Dependencies\n",
        "```\n",
        "BehaviorScoringRun.ipynb\n",
        "├── BehaviorScoringMain.py\n",
        "├── BehaviorScoringFunctions.py\n",
        "├── BehaviorScoringConfig.py\n",
        "├── BehaviorScoringColabConfig.py\n",
        "├── ExperimentConfig.py\n",
        "└── PathConfig.py\n",
        "```"
      ]
    },
    {
      "cell_type": "markdown",
      "source": [
        "#PREPARE ENVIROMENT"
      ],
      "metadata": {
        "id": "4pjDbIepxJ1D"
      }
    },
    {
      "cell_type": "code",
      "execution_count": 1,
      "metadata": {
        "id": "rU6raWvFDqHU",
        "colab": {
          "base_uri": "https://localhost:8080/"
        },
        "outputId": "6fcb3406-14fe-4aaf-d3bd-5f314d90b645"
      },
      "outputs": [
        {
          "output_type": "stream",
          "name": "stdout",
          "text": [
            "\u001b[2K     \u001b[90m━━━━━━━━━━━━━━━━━━━━━━━━━━━━━━━━━━━━━━━━\u001b[0m \u001b[32m60.8/60.8 kB\u001b[0m \u001b[31m2.3 MB/s\u001b[0m eta \u001b[36m0:00:00\u001b[0m\n",
            "\u001b[2K   \u001b[90m━━━━━━━━━━━━━━━━━━━━━━━━━━━━━━━━━━━━━━━━\u001b[0m \u001b[32m41.2/41.2 MB\u001b[0m \u001b[31m18.0 MB/s\u001b[0m eta \u001b[36m0:00:00\u001b[0m\n",
            "\u001b[?25hPython: 3.11.13 | Platform: Linux-6.1.123+-x86_64-with-glibc2.35\n",
            "NumPy : 2.0.2 | pandas : 2.2.2 | sklearn : 1.6.1 | SciPy : 1.14.1\n"
          ]
        }
      ],
      "source": [
        "# Pin core library versions and show environment details\n",
        "\n",
        "# python==3.11.13\n",
        "# Pin libs to versions compatible with Colab's preinstalled stack.\n",
        "!pip install -q \\\n",
        "  numpy==2.0.2 \\\n",
        "  pandas==2.2.2 \\\n",
        "  scikit-learn==1.6.1 \\\n",
        "  scipy==1.14.1\n",
        "\n",
        "import sys, platform, numpy, pandas, sklearn, scipy\n",
        "print(\"Python:\", sys.version.split()[0], \"| Platform:\", platform.platform())\n",
        "print(\"NumPy :\", numpy.__version__,\n",
        "      \"| pandas :\", pandas.__version__,\n",
        "      \"| sklearn :\", sklearn.__version__,\n",
        "      \"| SciPy :\", scipy.__version__)\n"
      ]
    },
    {
      "cell_type": "code",
      "execution_count": 3,
      "metadata": {
        "id": "p9nAfKxh1LWq",
        "colab": {
          "base_uri": "https://localhost:8080/"
        },
        "outputId": "3fdbd54c-435d-4870-f0c2-c58d0d923841"
      },
      "outputs": [
        {
          "output_type": "stream",
          "name": "stdout",
          "text": [
            "Mounted at /content/drive\n",
            "TEMP PathConfig injected ✓\n",
            "PROCESSING ROOT: /content/drive/MyDrive/Matheus_e_Rodrigo/TestRun\n"
          ]
        }
      ],
      "source": [
        "# Cell 1 — Mount + inject PathConfig (DEV/PROD) + make Config importable + imports (OG style)\n",
        "\n",
        "from google.colab import drive\n",
        "drive.mount('/content/drive', force_remount=True)\n",
        "\n",
        "# ============================ EDIT ME (choose one) ==========================\n",
        "USE_TEMP_PATHCONFIG = True  # True = DEV (inject root); False = PROD (load file)\n",
        "\n",
        "# PROD: absolute path to your real PathConfig.py (with a real __EXP_ROOT__)\n",
        "pPathConfig = \"__PLACEHOLDER_PATHCONFIG_ROOT__\"\n",
        "\n",
        "# DEV: PathConfig.py to inject, and the temporary experimental root to use\n",
        "TEMP_PATHCONFIG      = \"/content/drive/MyDrive/Matheus_e_Rodrigo/TestRun/Protocols/Codes/Config/PathConfig.py\"\n",
        "TEMP_EXPERIMENT_ROOT = \"/content/drive/MyDrive/Matheus_e_Rodrigo/TestRun\"\n",
        "# ===========================================================================\n",
        "\n",
        "import sys, types, importlib.util, importlib\n",
        "from pathlib import Path\n",
        "\n",
        "# --- inject or load PathConfig as a module object ---\n",
        "if USE_TEMP_PATHCONFIG:\n",
        "    p_pathconfig = Path(TEMP_PATHCONFIG)\n",
        "    exp_root     = Path(TEMP_EXPERIMENT_ROOT)\n",
        "    assert p_pathconfig.exists(), f\"TEMP PathConfig.py not found: {p_pathconfig}\"\n",
        "    assert exp_root.exists(),     f\"TEMP experimental root not found: {exp_root}\"\n",
        "\n",
        "    code = p_pathconfig.read_text().replace('\"__EXP_ROOT__\"', f'\"{exp_root.as_posix()}\"')\n",
        "    PathConfig = types.ModuleType(\"PathConfig\")\n",
        "    exec(compile(code, str(p_pathconfig), \"exec\"), PathConfig.__dict__)\n",
        "    print(\"TEMP PathConfig injected ✓\")\n",
        "else:\n",
        "    p_pathconfig = Path(pPathConfig)\n",
        "    assert p_pathconfig.exists(), f\"PathConfig.py not found: {p_pathconfig}\"\n",
        "    spec = importlib.util.spec_from_file_location(\"PathConfig\", str(p_pathconfig))\n",
        "    PathConfig = importlib.util.module_from_spec(spec)\n",
        "    sys.modules[\"PathConfig\"] = PathConfig\n",
        "    spec.loader.exec_module(PathConfig)\n",
        "    print(\"Production PathConfig loaded ✓\")\n",
        "\n",
        "# --- put Codes & subpackages on sys.path so 'Config' and code modules import cleanly ---\n",
        "codes_dirs = [\n",
        "    Path(PathConfig.pCodes),\n",
        "    Path(PathConfig.pCodes) / \"Config\",\n",
        "    Path(PathConfig.pCodes) / \"BehaviorScoring\",\n",
        "    Path(PathConfig.pCodes) / \"CreateDataFrames\",\n",
        "]\n",
        "for d in codes_dirs:\n",
        "    d_str = str(d)\n",
        "    if d_str not in sys.path:\n",
        "        sys.path.insert(0, d_str)\n",
        "\n",
        "# --- preload 'Config' and satisfy 'from Config import PathConfig' pattern (OG style) ---\n",
        "importlib.import_module(\"Config\")\n",
        "sys.modules[\"Config.PathConfig\"] = PathConfig\n",
        "\n",
        "# --- import config modules (as modules), scoring modules, and ColabConfig (as module) ---\n",
        "from Config import ExperimentConfig          # module\n",
        "from Config import BehaviorScoringConfig     # module\n",
        "from Config import BehaviorScoringColabConfig as BSC  # module with helpers\n",
        "import BehaviorScoringFunctions as BSF\n",
        "import BehaviorScoringMain as BSM\n",
        "\n",
        "import shutil, time, importlib\n",
        "\n",
        "# sanity: show the root used in headers\n",
        "print(\"PROCESSING ROOT:\", PathConfig.pExperimentalRoot)\n"
      ]
    },
    {
      "cell_type": "code",
      "execution_count": 4,
      "metadata": {
        "id": "1EzcALEyYyEn"
      },
      "outputs": [],
      "source": [
        "# Cell 2 — Load Drive paths & create local output mirrors (no input staging)\n",
        "\n",
        "# Drive root + canonical Drive paths based on your PathConfig\n",
        "drive_root, drive_paths = BSC.load_configs(PathConfig)  # (Path, DrivePaths)\n",
        "\n",
        "# Create local mirrors under /content ONLY for outputs (no copying inputs)\n",
        "local_paths = BSC.local_mirrors(drive_root, drive_paths, local_root=None, verbose=False)\n"
      ]
    },
    {
      "cell_type": "code",
      "execution_count": 5,
      "metadata": {
        "id": "nG1JeI7d8eLF"
      },
      "outputs": [],
      "source": [
        "# Cell 3 — Validate inputs on Drive (OG style instantiation from modules)\n",
        "\n",
        "EXPconfig = ExperimentConfig\n",
        "BSconfig  = BehaviorScoringConfig\n",
        "\n",
        "# Validate tracked/pose inputs on Drive (does not stage/copy)\n",
        "pose_scoring = BSC.validate_inputs(drive_paths, pose_scoring=EXPconfig.POSE_SCORING, verbose=False)\n",
        "\n",
        "# Keep EXPconfig in sync with auto-detect (optional)\n",
        "try:\n",
        "    EXPconfig.POSE_SCORING = bool(pose_scoring)\n",
        "except Exception:\n",
        "    pass\n"
      ]
    },
    {
      "cell_type": "code",
      "source": [
        "import importlib, Config.BehaviorScoringColabConfig as BSC\n",
        "importlib.reload(BSC)\n",
        "\n",
        "print(\"ColabConfig file:\", getattr(BSC, \"__file__\", \"(module injected)\"))\n",
        "print(\"Has make_mixed_pathconfig?\", hasattr(BSC, \"make_mixed_pathconfig\"))\n",
        "print(\"Has print_finish?\", hasattr(BSC, \"print_finish\"))\n",
        "print(\"Has start_background_sync?\", hasattr(BSC, \"start_background_sync\"))"
      ],
      "metadata": {
        "colab": {
          "base_uri": "https://localhost:8080/"
        },
        "id": "nGBA8OarvaXO",
        "outputId": "7b5860d7-1737-4162-c756-26cd62cbcf5d"
      },
      "execution_count": 6,
      "outputs": [
        {
          "output_type": "stream",
          "name": "stdout",
          "text": [
            "ColabConfig file: /content/drive/MyDrive/Matheus_e_Rodrigo/TestRun/Protocols/Codes/Config/BehaviorScoringColabConfig.py\n",
            "Has make_mixed_pathconfig? True\n",
            "Has print_finish? True\n",
            "Has start_background_sync? True\n"
          ]
        }
      ]
    },
    {
      "cell_type": "code",
      "execution_count": 7,
      "metadata": {
        "id": "_gsxNj1TaOVl"
      },
      "outputs": [],
      "source": [
        "# Cell 4 — Build mixed PathConfig (read from Drive, write to local)\n",
        "\n",
        "# Keep headers & PROCESSING line pointing to Drive (pExperimentalRoot),\n",
        "# but write outputs (Scored/ScoredPose/ScoredError) to local mirrors for batching.\n",
        "PATHconfig = BSC.make_mixed_pathconfig(PathConfig, drive_paths, local_paths)\n"
      ]
    },
    {
      "cell_type": "code",
      "execution_count": 8,
      "metadata": {
        "id": "qU0YUTwd23Bv"
      },
      "outputs": [],
      "source": [
        "# Cell 5 — Start background sync (batched saves)\n",
        "\n",
        "# Batch size (files per push); tweak here to 10/30/50 as you like\n",
        "BATCH_SIZE = 100\n",
        "\n",
        "# Start background sync that uploads in batches quietly\n",
        "BSC.start_background_sync(\n",
        "    local_paths,\n",
        "    drive_paths,\n",
        "    pose_scoring=EXPconfig.POSE_SCORING,\n",
        "    batch_size=BATCH_SIZE\n",
        ")\n"
      ]
    },
    {
      "cell_type": "markdown",
      "source": [
        "#RUN"
      ],
      "metadata": {
        "id": "IZ-hTn6dxCNC"
      }
    },
    {
      "cell_type": "code",
      "source": [
        "# Cell 6 — Run the scorer (streams header, pinned bar, and session summary)\n",
        "\n",
        "# Make sure we use the latest in-session defs\n",
        "importlib.reload(BSF)\n",
        "importlib.reload(BSM)\n",
        "\n",
        "run_stats = BSM.behavior_scoring_main(\n",
        "    PATHconfig=PATHconfig,\n",
        "    EXPconfig=EXPconfig,\n",
        "    BSconfig=BSconfig,\n",
        "    BSF=BSF\n",
        ")\n",
        "\n",
        "# Stop watcher; do a final quiet push of remaining files\n",
        "BSC.stop_background_sync()\n",
        "BSC.sync_outputs_back(\n",
        "    local_paths,\n",
        "    drive_paths,\n",
        "    pose_scoring=EXPconfig.POSE_SCORING,\n",
        "    verbose=False\n",
        ")\n",
        "\n",
        "# Print the exact block you want\n",
        "BSC.print_finish(\n",
        "    dest_path=str(PathConfig.pExperimentalRoot),\n",
        "    scoring_seconds=float(run_stats.get(\"scoring_seconds\", 0.0))\n",
        ")"
      ],
      "metadata": {
        "id": "B6e0WOmgqKxD",
        "colab": {
          "base_uri": "https://localhost:8080/",
          "height": 295
        },
        "outputId": "9490c8ff-38b6-4e6f-bf87-b2663e538f42"
      },
      "execution_count": null,
      "outputs": [
        {
          "output_type": "stream",
          "name": "stdout",
          "text": [
            "\n",
            "============================= SCORING SESSION =============================\n",
            "\n",
            "\n",
            "  PROCESSING    ------  /content/drive/MyDrive/Matheus_e_Rodrigo/TestRun\n",
            "  POSE SCORING  --------------------------------------------------  True\n",
            "\n",
            "  FILES FOUND  -----------------------------------------------------  60\n",
            "  TO SCORE     -----------------------------------------------------  60\n",
            "  SKIPPING     ------------------------------------------------------  0\n",
            "               ------------------------------  scored: 0  ---  errors: 0\n",
            "\n",
            "\n"
          ]
        },
        {
          "output_type": "display_data",
          "data": {
            "text/plain": [
              "<IPython.core.display.Markdown object>"
            ],
            "text/markdown": "```text\n  SCORING  [#######....................................................]\n           ----------------  file 7/60  ---  4.78s/file  ---  04m13s eta\n  SCORED   ----------------------------------------------------------  7\n```"
          },
          "metadata": {}
        }
      ]
    }
  ],
  "metadata": {
    "colab": {
      "provenance": []
    },
    "kernelspec": {
      "display_name": "Python 3",
      "name": "python3"
    },
    "language_info": {
      "name": "python"
    }
  },
  "nbformat": 4,
  "nbformat_minor": 0
}
